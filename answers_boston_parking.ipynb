{
 "cells": [
  {
   "cell_type": "markdown",
   "metadata": {},
   "source": [
    "#### Metered Parking in Boston\n",
    "We are going to do some analysis on what metered parking is available in the Boston area, using data taken from Boston's [Open Data portal](https://data.boston.gov/dataset/parking-meters). \n",
    "\n",
    "This file is available in the repository as a [csv](https://www.computerhope.com/issues/ch001356.htm) (comma seperated value file, similar to the type of tabular data you would work with in excel)."
   ]
  }
}
