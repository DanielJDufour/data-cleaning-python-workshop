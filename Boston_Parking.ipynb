{
 "cells": [
  {
   "cell_type": "markdown",
   "metadata": {},
   "source": [
    "#### Metered Parking in Boston\n",
    "We are going to do some analysis on what metered parking is available in the Boston area, using data taken from Boston's [Open Data portal](https://data.boston.gov/dataset/parking-meters). \n",
    "\n",
    "This file is available in the repository as a [csv](https://www.computerhope.com/issues/ch001356.htm) (comma seperated value file, similar to the type of tabular data you would work with in excel)."
   ]
  },
  {
   "cell_type": "markdown",
   "metadata": {},
   "source": [
    "### Exercise Notes:\n",
    "\n",
    "   ##### For each technique, we will:\n",
    "   - present an explanation which will include an example of the syntax.  `Syntax will be contained in code blocks like this.`\n",
    "    Italicized portions of the example syntax should be replaced with the your variables.  Normal text (not italicized) should be copied precisely.\n",
    "   - work through an example\n",
    "   - allow you to practice a similar example on your own"
   ]
  },
  {
   "cell_type": "markdown",
   "metadata": {},
   "source": [
    "### Step 1: Import the libraries you plan to use.\n",
    "\n",
    "(This is done in the first lines of your script.  Always keep in mind that the script will run in order and won't have access to variables and functions set later in the file, just as you wouldn't be able to give someone the weather report if you hadn't looked it up yet.)\n",
    "\n",
    "We will primarly use [pandas](https://pandas.pydata.org/pandas-docs/stable/reference/index.html).  This library allows us to easily manipulate and analyze data structures.\n",
    "\n",
    "importing \"as pd\" allows us nickname pandas so that instead of typing the full name later, we can substitute \"pd\"  \n",
    "Example: (pandas.dataframe.columns can instead be typed pd.dataframe.columns)"
   ]
  },
  {
   "cell_type": "code",
   "execution_count": 1,
   "metadata": {
    "scrolled": true
   },
   "outputs": [
    {
     "ename": "ModuleNotFoundError",
     "evalue": "No module named 'pandas'",
     "output_type": "error",
     "traceback": [
      "\u001b[0;31m---------------------------------------------------------------------------\u001b[0m",
      "\u001b[0;31mModuleNotFoundError\u001b[0m                       Traceback (most recent call last)",
      "\u001b[0;32m<ipython-input-1-7dd3504c366f>\u001b[0m in \u001b[0;36m<module>\u001b[0;34m\u001b[0m\n\u001b[0;32m----> 1\u001b[0;31m \u001b[0;32mimport\u001b[0m \u001b[0mpandas\u001b[0m \u001b[0;32mas\u001b[0m \u001b[0mpd\u001b[0m\u001b[0;34m\u001b[0m\u001b[0;34m\u001b[0m\u001b[0m\n\u001b[0m",
      "\u001b[0;31mModuleNotFoundError\u001b[0m: No module named 'pandas'"
     ]
    }
   ],
   "source": [
    "import pandas as pd"
   ]
  },
  {
   "cell_type": "markdown",
   "metadata": {},
   "source": [
    "![csv example](./data/meters_csv.png)\n",
    "\n",
    "### Step 2: Loading a csv \n",
    "Pandas comes with built in functionality to read in a csv\n",
    "The syntax is:  \n",
    "`pd.read_csv('`*`file_path`*`')`\n",
    "\n",
    "To make this file easier to refer back to later, we are going to save it to a variable name of our choice. I'm going to call it boston_meters."
   ]
  },
  {
   "cell_type": "code",
   "execution_count": null,
   "metadata": {},
   "outputs": [],
   "source": [
    "# Remember, variable names cannot contain spaces, \n",
    "# To make the name more readable you can separate words with-a-dash or_with_underscores\n",
    "\n",
    "boston_meters = pd.read_csv('./data/parking_meters_boston.csv')"
   ]
  },
  {
   "cell_type": "markdown",
   "metadata": {},
   "source": [
    "\n",
    "\n",
    "### Step 3: Exploring the data\n",
    "There are several techniques we can use to get a sense of what sort of data is available. \n",
    "\n",
    "Keep in mind that the code that is run will not automatically display results.  If you want the program to report back to you, you will need to wrap the command (or the variable it is saved to) in a print funtion\n"
   ]
  },
  {
   "cell_type": "markdown",
   "metadata": {},
   "source": [
    "#### What columns does this csv have?\n",
    "Let's take a look at the data available in the csv by printing the column headings.  The data structure is identical for the Charlestown and Boston dataframes.\n",
    "\n",
    "The syntax is:\n",
    "*`pd.dataframe.`*`columns`"
   ]
  },
  {
   "cell_type": "code",
   "execution_count": null,
   "metadata": {},
   "outputs": [],
   "source": [
    "# Remember we named our dataframe \"boston_meters\" in step 2\n",
    "# Keep in mind that the code that is run will not automatically display results.  \n",
    "#If you want the program to report back to you, you will need to wrap the command (or the variable) in a print funtion \n",
    "\n",
    "print(boston_meters.columns)"
   ]
  },
  {
   "cell_type": "markdown",
   "metadata": {},
   "source": [
    "#### Finding all unique values\n",
    "Dataframe 1 tells us which vendors service the meters in the \"VENDOR\" column. How many vendors service the boston area meters?  \n",
    "Syntax: *`dataframe.column`*`.unique()`"
   ]
  },
  {
   "cell_type": "code",
   "execution_count": null,
   "metadata": {},
   "outputs": [],
   "source": [
    "print(boston_meters.VENDOR.unique())"
   ]
  },
  {
   "cell_type": "code",
   "execution_count": null,
   "metadata": {},
   "outputs": [],
   "source": [
    "# What are the distinct types of pay policies for meters? \n",
    "\n",
     "print(boston_meters.PAY_POLICY.unique())",
    "\n"
   ]
  },
  {
   "cell_type": "markdown",
   "metadata": {},
   "source": [
    "### Reorganizing the Data"
   ]
  },
  {
   "cell_type": "markdown",
   "metadata": {},
   "source": [
    "#### Filtering\n",
    "Sometimes you may only want data with certain attributes. You can filter the data and save to a new dataframe or delete data from the table.  It can also be useful in cases where you want a count of the data that matches your query."
   ]
  },
  {
   "cell_type": "markdown",
   "metadata": {},
   "source": [
    "\n",
    "![string.contains documentation](./data/str-contains-method.png)  \n",
    "One way to do this is to check if the cell contains a certain string (remember a string is a sequence of characters).\n",
    "syntax: *`dataframe[dataframe['column']`*`.str.contains(`*`'string we are looking for'`*`)`\n",
    "\n",
    "   This will return all result that evaluate to true.  In the next example we want all the results that *do not contain* a certain string.  We are in luck! We can easily invert our results by including *`~`* in front of the dataframe path like this: *`dataframe[~ dataframe['column']`*\n",
    "   \n",
    "   \n",
    "   \n",
    "Some additional methods include `str.startswith(\"\")` and `str.endswith(\"\")`\n"
   ]
  },
  {
   "cell_type": "code",
   "execution_count": null,
   "metadata": {},
   "outputs": [],
   "source": [
    "# let's find out what meters don't require payment on saturdays\n",
    "# we have included the optional parameter \"na=False\" to exclude no data values, which can neither be true nor false\n",
    "\n",
    "free_saturdays = meters_csv[~ meters_csv['PAY_POLICY'].str.contains('SAT', na=False)]\n",
    "print(free_saturdays)"
   ]
  },
  {
   "cell_type": "code",
   "execution_count": null,
   "metadata": {},
   "outputs": [],
   "source": [
    "# Which meters don't enforce towing according to the dataset?\n",
    "no_tow_zones = meters_csv[meters_csv['TOW_AWAY'].str.contains('none')]",
    "\n"
   ]
  },
  {
   "cell_type": "markdown",
   "metadata": {},
   "source": [
    "##### Merging Dataframes  \n",
    "\n",
    "![Merge Types](./data/merges.png)\n",
    "\n",
    "We have a dataframe listing parking meters for Charlestown and another dataframe listing parking meters for Boston.\n",
    "Try combining these two into one dataframe.\n",
    "\n",
    "\n",
    "Syntax: *`dataframe`*`.merge(`*`dataframe_2`*`, how = \"\")`   (Default is inner merge)\n"
   ]
  },
  {
   "cell_type": "code",
   "execution_count": null,
   "metadata": {},
   "outputs": [],
   "source": []
  }
 ],
 "metadata": {
  "kernelspec": {
   "display_name": "Python 3",
   "language": "python",
   "name": "python3"
  },
  "language_info": {
   "codemirror_mode": {
    "name": "ipython",
    "version": 3
   },
   "file_extension": ".py",
   "mimetype": "text/x-python",
   "name": "python",
   "nbconvert_exporter": "python",
   "pygments_lexer": "ipython3",
   "version": "3.7.3"
  }
 },
 "nbformat": 4,
 "nbformat_minor": 2
}
